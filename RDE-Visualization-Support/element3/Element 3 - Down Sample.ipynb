{
 "cells": [
  {
   "cell_type": "markdown",
   "metadata": {},
   "source": [
    "## Down Sample the Sqlite Database to .csv Files Used in Element 3\n",
    "This file will go through the steps to downsample the sqlite database created in MnDot_All_Data_Prep.  The downsampled data will be .csv files with information that is directly relevant to the visualization.  The downsampled data will be taken at 10min intervals."
   ]
  },
  {
   "cell_type": "code",
   "execution_count": 1,
   "metadata": {
    "collapsed": false
   },
   "outputs": [],
   "source": [
    "#Import needed libraries\n",
    "import sqlite3\n",
    "import datetime as dt\n",
    "from dateutil.relativedelta import relativedelta\n",
    "import csv\n",
    "\n",
    "#Connect to database\n",
    "database = \"fhwa_mn.sqlite\"\n",
    "conn = sqlite3.connect(database)\n",
    "c = conn.cursor()\n",
    "\n",
    "#Set up timeframes\n",
    "s = '2014-02-19'\n",
    "start = dt.datetime.strptime(s, '%Y-%m-%d')\n",
    "time_step = relativedelta(minutes=10)"
   ]
  },
  {
   "cell_type": "code",
   "execution_count": null,
   "metadata": {
    "collapsed": false
   },
   "outputs": [],
   "source": [
    "%%time\n",
    "#Add indexes to the tables used in downsampling\n",
    "\n",
    "#Update Table Indexes\n",
    "c.execute('CREATE INDEX update_vname_index ON \"update\" (VehicleName);')\n",
    "c.execute('CREATE INDEX update_tstamp_index ON \"update\" (TimeStamp);')\n",
    "c.execute('CREATE INDEX update_gps_index ON \"update\" (GPS_Quality);')\n",
    "\n",
    "#Weather Table Indexes\n",
    "c.execute('CREATE INDEX weater_stationID_index ON \"weather\" (StationID);')\n",
    "c.execute('CREATE INDEX weater_obsType_index ON \"weather\" (ObsTypeName);')\n",
    "c.execute('CREATE INDEX weater_tstamp_index ON \"weather\" (TimeStamp);')\n",
    "\n",
    "#Mdtx Table Indexes\n",
    "c.execute('CREATE INDEX mdtx_vname_index ON \"mdtx\" (VehicleName);')\n",
    "c.execute('CREATE INDEX mdtx_tstamp_index ON \"mdtx\" (TimeStamp);')\n",
    "c.execute('CREATE INDEX mdtx_gps_index ON \"mdtx\" (GPS_Quality);')\n",
    "\n",
    "#Vaix Table Indexes\n",
    "c.execute('CREATE INDEX vaix_vname_index ON \"vaix\" (VehicleName);')\n",
    "c.execute('CREATE INDEX vaix_tstamp_index ON \"vaix\" (TimeStamp);')\n",
    "c.execute('CREATE INDEX vaix_gps_index ON \"vaix\" (GPS_Quality);')"
   ]
  },
  {
   "cell_type": "code",
   "execution_count": 2,
   "metadata": {
    "collapsed": false
   },
   "outputs": [
    {
     "name": "stdout",
     "output_type": "stream",
     "text": [
      "CPU times: user 2.16 s, sys: 71.3 ms, total: 2.24 s\n",
      "Wall time: 2.24 s\n"
     ]
    }
   ],
   "source": [
    "%%time\n",
    "#The data has light vehicles, lets remove these\n",
    "not_plow = [\"204360\",\"204362\",\"206031\",\"207301\",\"209118\",\"209134\",\"209217\",\"210161\",\"210333\",\"210335\" \\\n",
    "            ,\"211277\",\"211548\",\"212291\",\"212312\",\"212457\",\"212458\",\"213128\",\"Jakin\",\"Joe\"]\n",
    "\n",
    "#Find list of vehicle names from update table\n",
    "c.execute('SELECT DISTINCT VehicleName FROM \"update\" WHERE VehicleName NOT IN ('+', '.join(['\"{}\"'.format(value) for value in not_plow])+')')\n",
    "r = c.fetchall()\n",
    "update_vehicles = [x[0] for x in r]\n",
    "\n",
    "#Find list of weather nodes from weather table\n",
    "c.execute('SELECT DISTINCT StationID FROM weather')\n",
    "r = c.fetchall()\n",
    "weather_nodes = [x[0] for x in r]\n",
    "\n",
    "#Find list of vehicle names from mdtx table\n",
    "c.execute('SELECT DISTINCT VehicleName FROM mdtx WHERE VehicleName NOT IN ('+', '.join(['\"{}\"'.format(value) for value in not_plow])+')')\n",
    "r = c.fetchall()\n",
    "mdtx_vehicles = [x[0] for x in r]\n",
    "\n",
    "#Find list of vehicle names from vaix table\n",
    "c.execute('SELECT DISTINCT VehicleName FROM vaix WHERE VehicleName NOT IN ('+', '.join(['\"{}\"'.format(value) for value in not_plow])+')')\n",
    "r = c.fetchall()\n",
    "vaix_vehicles = [x[0] for x in r]"
   ]
  },
  {
   "cell_type": "code",
   "execution_count": 3,
   "metadata": {
    "collapsed": false
   },
   "outputs": [
    {
     "name": "stdout",
     "output_type": "stream",
     "text": [
      "CPU times: user 2.97 s, sys: 60.7 ms, total: 3.03 s\n",
      "Wall time: 3.05 s\n"
     ]
    }
   ],
   "source": [
    "%%time\n",
    "ObsType = ['precipIntensity', 'essSurfaceStatus']\n",
    "\n",
    "#Select all the weather data from the database\n",
    "command = \"\"\"\n",
    "SELECT StationID, ObsTypeName, strftime('%%Y%%m%%d%%H0', Timestamp) + strftime('%%M', Timestamp)/10,\n",
    "  Latitude, Longitude, Observation\n",
    "FROM weather\n",
    "WHERE Timestamp >= ? AND Timestamp <= ? AND StationID IN ('%s') AND ObsTypeName IN ('%s') \n",
    "GROUP BY StationID, ObsTypeName, strftime('%%Y%%m%%d%%H0', Timestamp) + strftime('%%M', Timestamp)/10,\n",
    "  Latitude, Longitude\n",
    "HAVING MIN(ROWID)\n",
    "ORDER BY StationID, ObsTypeName DESC, Timestamp ASC;\n",
    "\"\"\" % ((\"', '\".join(str(w) for w in weather_nodes)), \"', '\".join(ObsType))\n",
    "\n",
    "#Write the selected data to a .csv file\n",
    "headers=['StationID', 'ObsTypeName', 'Timestamp', 'Latitude', 'Longitude', 'Observation']\n",
    "with open('data/weather_data.csv', 'w') as f:\n",
    "    writer = csv.writer(f)\n",
    "    writer.writerow(headers)\n",
    "    c.execute(command, (start, start+time_step*578))\n",
    "    for row in c.fetchall():\n",
    "        # Fix the timestamp format\n",
    "        timestamp = dt.datetime.strptime(str(row[2]), '%Y%m%d%H%M')\n",
    "        # We rounded to 10 minute intervals\n",
    "        timestamp = timestamp.replace(minute=timestamp.minute*10)\n",
    "        output_row = (row[0], row[1], timestamp.strftime(\"%Y-%m-%d %H:%M:%S.%f\"), row[3], row[4], row[5])\n",
    "        writer.writerow(output_row)"
   ]
  },
  {
   "cell_type": "code",
   "execution_count": 4,
   "metadata": {
    "collapsed": false,
    "scrolled": true
   },
   "outputs": [
    {
     "name": "stdout",
     "output_type": "stream",
     "text": [
      "CPU times: user 26.4 s, sys: 6.24 s, total: 32.6 s\n",
      "Wall time: 32.6 s\n"
     ]
    }
   ],
   "source": [
    "%%time\n",
    "#Select all the data from the update table\n",
    "command = \"\"\"\n",
    "SELECT VehicleName, strftime('%%Y%%m%%d%%H0', Timestamp) + strftime('%%M', Timestamp)/10 AS Timestamp, Latitude,\n",
    "  Longitude\n",
    "FROM 'update'\n",
    "WHERE Timestamp >= ? AND Timestamp <= ? AND GPS_Quality != 0 AND VehicleName IN ('%s')\n",
    "GROUP BY VehicleName, strftime('%%Y%%m%%d%%H0', Timestamp) + strftime('%%M', Timestamp)/10\n",
    "HAVING MIN(ROWID)\n",
    "ORDER BY VehicleName, Timestamp ASC;\n",
    "\"\"\" % \"', '\".join(update_vehicles)\n",
    "\n",
    "#Write the selected data to a .csv file\n",
    "headers=['VehicleName', 'Timestamp', 'Latitude', 'Longitude']\n",
    "with open('data/vehicle_data.csv', 'w') as f:\n",
    "    writer = csv.writer(f)\n",
    "    writer.writerow(headers)\n",
    "    c.execute(command, (start, start+time_step*578))\n",
    "    for row in c.fetchall():\n",
    "        # Fix the timestamp format\n",
    "        timestamp = dt.datetime.strptime(str(row[1]), '%Y%m%d%H%M')\n",
    "        # We rounded to 10 minute intervals\n",
    "        timestamp = timestamp.replace(minute=timestamp.minute*10)\n",
    "        output_row = (row[0], timestamp.strftime(\"%Y-%m-%d %H:%M:%S.%f\"), row[2], row[3])\n",
    "        writer.writerow(output_row)"
   ]
  },
  {
   "cell_type": "code",
   "execution_count": 5,
   "metadata": {
    "collapsed": false
   },
   "outputs": [
    {
     "name": "stdout",
     "output_type": "stream",
     "text": [
      "CPU times: user 16.4 s, sys: 1.49 s, total: 17.9 s\n",
      "Wall time: 17.9 s\n"
     ]
    }
   ],
   "source": [
    "%%time\n",
    "#Select all the data from the mdtx table\n",
    "command = \"\"\"\n",
    "SELECT VehicleName, Timestamp, Latitude, Longitude, RoadCondition\n",
    "FROM 'mdtx' \n",
    "WHERE VehicleName = ? AND Timestamp >= ? AND Timestamp <= ? AND GPS_Quality != 0\n",
    "ORDER BY Timestamp ASC\n",
    "LIMIT 1\n",
    "\"\"\"\n",
    "all_mdtx_lists = []\n",
    "#For every vehicle\n",
    "for v in mdtx_vehicles:\n",
    "    my_mdtx_list = []\n",
    "    #For every 10min interval\n",
    "    for i in range(577):\n",
    "        s = start + time_step*i\n",
    "        e = start + time_step*(i+1)\n",
    "        c.execute(command, (v, s, e))\n",
    "        r = c.fetchone()\n",
    "        if r is not None:\n",
    "            my_mdtx_list.append(r)\n",
    "    all_mdtx_lists.append(my_mdtx_list)\n",
    "    \n",
    "#Write the selected data to a .csv file\n",
    "headers=['VehicleName', 'Timestamp', 'Latitude', 'Longitude', 'RoadCondition']\n",
    "with open('data/mdtx_data.csv', 'w') as f:\n",
    "    writer = csv.writer(f)\n",
    "    writer.writerow(headers)\n",
    "    for l in all_mdtx_lists:\n",
    "        for row in l:\n",
    "            writer.writerow(row)"
   ]
  },
  {
   "cell_type": "code",
   "execution_count": 6,
   "metadata": {
    "collapsed": false
   },
   "outputs": [
    {
     "name": "stdout",
     "output_type": "stream",
     "text": [
      "CPU times: user 1min 1s, sys: 27.2 s, total: 1min 28s\n",
      "Wall time: 1min 28s\n"
     ]
    }
   ],
   "source": [
    "%%time\n",
    "#Select all the data from the vaix table\n",
    "command = \"\"\"\n",
    "SELECT VehicleName, Timestamp, Latitude, Longitude, RoadTemp\n",
    "FROM 'vaix' \n",
    "WHERE VehicleName = ? AND Timestamp >= ? AND Timestamp <= ? AND GPS_Quality != 0\n",
    "ORDER BY Timestamp ASC\n",
    "LIMIT 1\n",
    "\"\"\"\n",
    "all_vaix_lists = []\n",
    "#For every vehicle\n",
    "for v in vaix_vehicles:\n",
    "    my_vaix_list = []\n",
    "    #For every 10min interval\n",
    "    for i in range(577):\n",
    "        s = start + time_step*i\n",
    "        e = start + time_step*(i+1)\n",
    "        c.execute(command, (v, s, e))\n",
    "        r = c.fetchone()\n",
    "        if r is not None:\n",
    "            my_vaix_list.append(r)\n",
    "    all_vaix_lists.append(my_vaix_list)\n",
    "    \n",
    "#Write the selected data to a .csv file\n",
    "headers=['VehicleName', 'Timestamp', 'Latitude', 'Longitude', 'RoadTemp']\n",
    "with open('data/vaix_data.csv', 'w') as f:\n",
    "    writer = csv.writer(f)\n",
    "    writer.writerow(headers)\n",
    "    for l in all_vaix_lists:\n",
    "        for row in l:\n",
    "            writer.writerow(row)"
   ]
  }
 ],
 "metadata": {
  "kernelspec": {
   "display_name": "IPython (Python 3)",
   "language": "python",
   "name": "python3"
  },
  "language_info": {
   "codemirror_mode": {
    "name": "ipython",
    "version": 3
   },
   "file_extension": ".py",
   "mimetype": "text/x-python",
   "name": "python",
   "nbconvert_exporter": "python",
   "pygments_lexer": "ipython3",
   "version": "3.4.4"
  }
 },
 "nbformat": 4,
 "nbformat_minor": 0
}
